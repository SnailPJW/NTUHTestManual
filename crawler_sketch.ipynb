{
 "cells": [
  {
   "cell_type": "code",
   "execution_count": null,
   "metadata": {},
   "outputs": [],
   "source": [
    "# import requests\n",
    "import pandas as pd\n",
    "from selenium import webdriver\n",
    "from time import sleep\n",
    "from lxml import etree, html"
   ]
  },
  {
   "cell_type": "code",
   "execution_count": null,
   "metadata": {},
   "outputs": [],
   "source": [
    "browser = webdriver.Chrome(\"./chromedriver\")\n",
    "url = \"https://www.ntuh.gov.tw/labmed/檢驗目錄/Lists/2015/BC.aspx\"\n",
    "tests = dict(test_ename = [], test_cname = [], specimen = [], reference_range = [], detail_link = [])\n",
    "\n",
    "# Make the browser visit the page\n",
    "browser.get(url)\n",
    "for i in range(5):\n",
    "    print(\"i begins: {}\".format(i))\n",
    "    # Transform what browser gets into an element tree\n",
    "    root = etree.fromstring(browser.page_source, etree.HTMLParser())\n",
    "    # Parse the information with Xpath\n",
    "    for row in root.xpath(\"//table[@class='ms-listviewtable']/tbody/tr\"):\n",
    "        tests[\"test_ename\"].append(row.xpath(\"./td/div/a/text()\")[0].strip())\n",
    "        tests[\"test_cname\"].append(row.xpath(\"./td/text()\")[0].strip())\n",
    "        try:\n",
    "            tests[\"specimen\"].append(row.xpath(\"./td/div/font/text()\")[0].strip())\n",
    "        except IndexError:\n",
    "            tests[\"specimen\"].append(row.xpath(\"./td/div/div/text()\")[0].strip())\n",
    "        tests[\"reference_range\"].append(\"\\n\".join(map(lambda x: x.strip(),row.xpath(\"./td/div/font/text()\")[1:])))\n",
    "        tests[\"detail_link\"].append(row.xpath(\"./td/div/a/@href\")[0].strip())\n",
    "    try:\n",
    "        browser.find_element_by_xpath(\"//td[@id='pagingWPQ2next']\").click()\n",
    "        sleep(5)\n",
    "    except NoSuchElementException:\n",
    "        pass\n",
    "    print(\"i ends: {}\".format(i))\n",
    "browser.quit()"
   ]
  },
  {
   "cell_type": "code",
   "execution_count": null,
   "metadata": {},
   "outputs": [],
   "source": [
    "# # Get the source code of the html with requests\n",
    "# # This method can NOT retrieve the following pages of dynamic webpage\n",
    "# result = \"\"\n",
    "# while result == \"\":\n",
    "#     try:\n",
    "#         # Certificate is not verified to bypass the SSLError\n",
    "#         # Not secure though\n",
    "#         result = requests.get(url, verify = False)\n",
    "#         break\n",
    "#     except:\n",
    "#         sleep(5)\n",
    "#         continue\n",
    "# # Transform it into an element tree\n",
    "# root = etree.fromstring(result.content, etree.HTMLParser())\n",
    "# # Parse the information with Xpath\n",
    "# # The Xpath for root is somehow different\n",
    "# for row in root.xpath(\"//table[@class='ms-listviewtable']/tr\"):\n",
    "#     tests[\"test_ename\"].append(row.xpath(\"./td/div/a/text()\")[0].strip())\n",
    "#     tests[\"test_cname\"].append(row.xpath(\"./td/text()\")[0].strip())\n",
    "#     try:\n",
    "#         tests[\"specimen\"].append(row.xpath(\"./td/div/font/text()\")[0].strip())\n",
    "#     except IndexError:\n",
    "#         tests[\"specimen\"].append(row.xpath(\"./td/div/div/text()\")[0].strip())\n",
    "#     tests[\"reference_range\"].append(\"\\n\".join(map(lambda x: x.strip(),row.xpath(\"./td/div/font/text()\")[1:])))\n",
    "#     tests[\"detail_link\"].append(row.xpath(\"./td/div/a/@href\")[0].strip())"
   ]
  },
  {
   "cell_type": "code",
   "execution_count": null,
   "metadata": {},
   "outputs": [],
   "source": [
    "pd.DataFrame(tests)[[\"test_ename\", \"test_cname\", \"specimen\", \"reference_range\", \"detail_link\"]]"
   ]
  },
  {
   "cell_type": "code",
   "execution_count": null,
   "metadata": {},
   "outputs": [],
   "source": []
  }
 ],
 "metadata": {
  "kernelspec": {
   "display_name": "Python 3",
   "language": "python",
   "name": "python3"
  },
  "language_info": {
   "codemirror_mode": {
    "name": "ipython",
    "version": 3
   },
   "file_extension": ".py",
   "mimetype": "text/x-python",
   "name": "python",
   "nbconvert_exporter": "python",
   "pygments_lexer": "ipython3",
   "version": "3.6.4"
  }
 },
 "nbformat": 4,
 "nbformat_minor": 2
}
